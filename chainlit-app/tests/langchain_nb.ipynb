{
 "cells": [
  {
   "cell_type": "code",
   "execution_count": 5,
   "metadata": {},
   "outputs": [],
   "source": [
    "from typing import Dict, Optional\n",
    "from chainlit.types import ThreadDict\n",
    "from langchain.memory import ConversationBufferMemory\n",
    "from langchain.schema.runnable.config import RunnableConfig \n",
    "# from chatbot_memory import setup_runnable\n",
    "from operator import itemgetter\n",
    "from langchain.prompts import ChatPromptTemplate, MessagesPlaceholder\n",
    "from langchain.schema.output_parser import StrOutputParser\n",
    "from langchain.schema.runnable import RunnablePassthrough, RunnableLambda\n",
    "from langchain_google_vertexai import ChatVertexAI\n",
    "import chainlit as cl\n",
    "\n",
    "from rich import print as rprint"
   ]
  },
  {
   "cell_type": "code",
   "execution_count": 12,
   "metadata": {},
   "outputs": [
    {
     "data": {
      "text/plain": [
       "ConversationBufferMemory(chat_memory=InMemoryChatMessageHistory(messages=[HumanMessage(content='Hello', additional_kwargs={}, response_metadata={}), AIMessage(content='Test', additional_kwargs={}, response_metadata={})]), return_messages=True)"
      ]
     },
     "execution_count": 12,
     "metadata": {},
     "output_type": "execute_result"
    }
   ],
   "source": [
    "from langchain.memory import ConversationBufferMemory\n",
    "\n",
    "memory = ConversationBufferMemory(return_messages=True)\n",
    "\n",
    "\n",
    "memory.chat_memory.add_user_message(\"Hello\")\n",
    "\n",
    "memory.chat_memory.add_ai_message(\"Test\")\n",
    "\n",
    "memory"
   ]
  },
  {
   "cell_type": "code",
   "execution_count": 15,
   "metadata": {},
   "outputs": [],
   "source": [
    "\n",
    "from langchain_core.runnables import RunnableMap, RunnablePassthrough, RunnableLambda\n",
    "\n",
    "_inputs = RunnableMap(\n",
    "        chat_history=RunnableLambda(memory.load_memory_variables) | itemgetter(\"history\"),\n",
    "        question=itemgetter(\"question\"),\n",
    "    )\n",
    "\n",
    "# Create a test input\n",
    "test_input = {\n",
    "    \"question\": \"What's the circadian rhythm?\"\n",
    "}"
   ]
  },
  {
   "cell_type": "code",
   "execution_count": 18,
   "metadata": {},
   "outputs": [
    {
     "data": {
      "text/plain": [
       "{'chat_history': [HumanMessage(content='Hello', additional_kwargs={}, response_metadata={}),\n",
       "  AIMessage(content='Test', additional_kwargs={}, response_metadata={})],\n",
       " 'question': \"What's the circadian rhythm?\"}"
      ]
     },
     "execution_count": 18,
     "metadata": {},
     "output_type": "execute_result"
    }
   ],
   "source": [
    "# Run the _inputs with test input\n",
    "output = _inputs.invoke(test_input)\n",
    "output"
   ]
  },
  {
   "cell_type": "code",
   "execution_count": 27,
   "metadata": {},
   "outputs": [],
   "source": [
    "from langchain_core.prompts import ChatPromptTemplate, PromptTemplate, format_document\n",
    "# Define prompt templates\n",
    "RAG_TEMPLATE = \"\"\"Given the following conversational history and user question, \\\n",
    "respond only with a search query to retrieve useful information from a medical \\\n",
    "knowledgebase. Do not narrate your thought process. If no relevant question is \\\n",
    "provided, respond only with \"No valid query\".\n",
    "\n",
    "Chat History:\n",
    "{chat_history}\n",
    "Question: {question}\n",
    "Search Query:\"\"\"\n",
    "\n",
    "ANSWER_TEMPLATE = \"\"\"You are a scientific expert in human wellness, health \\\n",
    "optimization, and athletic performance. Answer the user's question with relevant \\\n",
    "context from a medical knowledgebase if available. If the user's question is \\\n",
    "unrelated, politely reassert your role.\n",
    "\n",
    "Context:\n",
    "{context}\n",
    "\n",
    "Question: {question}\"\"\"\n",
    "\n",
    "# Instantiate templates\n",
    "RAG_QUERY_PROMPT = PromptTemplate.from_template(RAG_TEMPLATE)\n",
    "ANSWER_PROMPT = ChatPromptTemplate.from_template(ANSWER_TEMPLATE)\n",
    "DEFAULT_DOCUMENT_PROMPT = PromptTemplate.from_template(template=\"{page_content}\")\n",
    "\n",
    "\n",
    "_rag_query = RunnableMap(\n",
    "        rag_query = RAG_QUERY_PROMPT | ChatVertexAI(model=\"gemini-1.5-flash\", temperature=0) | StrOutputParser(),\n",
    "        question = itemgetter(\"question\")\n",
    "    )\n",
    "\n",
    "rag_query_output = _rag_query.invoke(output)"
   ]
  },
  {
   "cell_type": "code",
   "execution_count": 28,
   "metadata": {},
   "outputs": [
    {
     "data": {
      "text/plain": [
       "{'rag_query': 'circadian rhythm definition \\n',\n",
       " 'question': \"What's the circadian rhythm?\"}"
      ]
     },
     "execution_count": 28,
     "metadata": {},
     "output_type": "execute_result"
    }
   ],
   "source": [
    "rag_query_output"
   ]
  },
  {
   "cell_type": "code",
   "execution_count": 29,
   "metadata": {},
   "outputs": [
    {
     "name": "stdout",
     "output_type": "stream",
     "text": [
      "2024-10-29 17:36:38 - HTTP Request: GET http://localhost:6333/collections/uptodate \"HTTP/1.1 200 OK\"\n"
     ]
    }
   ],
   "source": [
    "from langchain_qdrant import QdrantVectorStore\n",
    "from qdrant_client import QdrantClient\n",
    "from vertexai.language_models import TextEmbeddingModel\n",
    "from langchain_google_vertexai.embeddings import VertexAIEmbeddings\n",
    "\n",
    "# Helper function to combine retrieved documents\n",
    "def _combine_documents(\n",
    "    docs, document_prompt=DEFAULT_DOCUMENT_PROMPT, document_separator=\"\\n\\n\"\n",
    "):\n",
    "    \"\"\"Combine documents into a single string.\"\"\"\n",
    "    doc_strings = [format_document(doc, document_prompt) for doc in docs]\n",
    "    return document_separator.join(doc_strings)\n",
    "\n",
    "# Setup embedding model and retriever\n",
    "embedding_model = TextEmbeddingModel.from_pretrained(\"text-embedding-004\")\n",
    "client = QdrantClient(url=\"http://localhost:6333\")\n",
    "vectorstore = QdrantVectorStore(\n",
    "    client=client,\n",
    "    collection_name=\"uptodate\",\n",
    "    embedding=VertexAIEmbeddings(model_name=\"text-embedding-004\")\n",
    ")\n",
    "retriever = vectorstore.as_retriever()"
   ]
  },
  {
   "cell_type": "code",
   "execution_count": 30,
   "metadata": {},
   "outputs": [
    {
     "name": "stdout",
     "output_type": "stream",
     "text": [
      "2024-10-29 17:37:01 - HTTP Request: POST http://localhost:6333/collections/uptodate/points/query \"HTTP/1.1 200 OK\"\n"
     ]
    }
   ],
   "source": [
    "_context = RunnableMap(\n",
    "        context=itemgetter(\"rag_query\") | retriever | _combine_documents,\n",
    "        question=itemgetter(\"question\")\n",
    "    )\n",
    "\n",
    "context_output = _context.invoke(rag_query_output)\n"
   ]
  },
  {
   "cell_type": "code",
   "execution_count": 31,
   "metadata": {},
   "outputs": [
    {
     "data": {
      "text/plain": [
       "{'context': '●A medical problem, such as:\\n\\n\\n\\n•Hypothyroidism – This is the medical term for when a person does not make enough thyroid hormone. This hormone controls how your body uses and stores energy.\\n\\n\\n\\n•Depression – People with this condition feel sad or down a lot of the time. They often also have trouble working or doing everyday tasks.\\n\\n\\n\\n●Things that disturb your sleep, such as:\\n\\n\\n\\n•Sounds – For example, if you have a new baby, they might cry and wake you up at night.\\n\\n## Is there anything I can do on my own to feel better?\\n\\nThat depends on the cause of your daytime sleepiness. But you can try having good sleep habits. This is also called \"sleep hygiene\"  (table 1). You should:\\n\\n●Go to bed and get up at the same time every day.\\n\\n\\n\\n●Have drinks with caffeine in them only in the morning (including coffee and tea).\\n\\n\\n\\n●Avoid alcohol.\\n\\n\\n\\n●Avoid smoking, especially in the evening.\\n\\n\\n\\n●Lose weight, if you are overweight.\\n\\n## More on this topic\\n\\nPatient education: Insomnia (The Basics)\\n Patient education: Nocturnal (nighttime) leg cramps (The Basics)\\n Patient education: Restless legs syndrome (The Basics)\\n Patient education: Sleep apnea in adults (The Basics)\\n Patient education: Sleep apnea in children (The Basics)\\n Patient education: Narcolepsy (The Basics)\\n Patient education: Sleep insufficiency (The Basics)\\n Patient education: Good sleep hygiene (The Basics)\\n\\n•Go to bed and get up at the same time every day.\\n\\n\\n\\n•Do not try to force yourself to sleep. If you can\\'t sleep, get out of bed and try again later.\\n\\n\\n\\n•Have coffee, tea, and other drinks and foods with caffeine only in the morning.\\n\\n\\n\\n•Avoid alcohol in the late afternoon, evening, and bedtime.\\n\\n\\n\\n•Avoid smoking, especially in the evening.\\n\\n\\n\\n•Keep your bedroom dark, cool, quiet, and free of reminders of work or other things that cause you stress.',\n",
       " 'question': \"What's the circadian rhythm?\"}"
      ]
     },
     "execution_count": 31,
     "metadata": {},
     "output_type": "execute_result"
    }
   ],
   "source": [
    "context_output"
   ]
  }
 ],
 "metadata": {
  "kernelspec": {
   "display_name": "chainlit",
   "language": "python",
   "name": "python3"
  },
  "language_info": {
   "codemirror_mode": {
    "name": "ipython",
    "version": 3
   },
   "file_extension": ".py",
   "mimetype": "text/x-python",
   "name": "python",
   "nbconvert_exporter": "python",
   "pygments_lexer": "ipython3",
   "version": "3.11.10"
  }
 },
 "nbformat": 4,
 "nbformat_minor": 2
}
